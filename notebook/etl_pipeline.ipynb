{
 "cells": [
  {
   "cell_type": "code",
   "execution_count": 7,
   "id": "bcc0e3bb",
   "metadata": {},
   "outputs": [],
   "source": [
    "#importing necessary libraries\n",
    "from pyspark.sql import SparkSession\n",
    "from pyspark.sql import DataFrameWriter\n",
    "from pyspark.sql.functions import monotonically_increasing_id\n",
    "import os\n",
    "import psycopg2"
   ]
  },
  {
   "cell_type": "code",
   "execution_count": 8,
   "id": "67210ba2",
   "metadata": {},
   "outputs": [],
   "source": [
    "#set Java home\n",
    "os.environ['JAVA_HOME'] = r'c:\\Program Files\\Java\\jdk-17'"
   ]
  },
  {
   "cell_type": "code",
   "execution_count": 9,
   "id": "568c15f9",
   "metadata": {},
   "outputs": [],
   "source": [
    "#Initialize Spark session\n",
    "spark = SparkSession.builder \\\n",
    "    .appName(\"Nuga Bank ETL Pipeline\") \\\n",
    "        .config(\"spark.jars\", r\"c:\\Users\\David Ibanga\\Data Engineering practicals\\nuga_bank_etl_case_study\\postgresql-42.7.7.jar\") \\\n",
    "        .getOrCreate()"
   ]
  },
  {
   "cell_type": "code",
   "execution_count": 10,
   "id": "3e0be571",
   "metadata": {},
   "outputs": [
    {
     "data": {
      "text/html": [
       "\n",
       "            <div>\n",
       "                <p><b>SparkSession - in-memory</b></p>\n",
       "                \n",
       "        <div>\n",
       "            <p><b>SparkContext</b></p>\n",
       "\n",
       "            <p><a href=\"http://host.docker.internal:4040\">Spark UI</a></p>\n",
       "\n",
       "            <dl>\n",
       "              <dt>Version</dt>\n",
       "                <dd><code>v3.5.6</code></dd>\n",
       "              <dt>Master</dt>\n",
       "                <dd><code>local[*]</code></dd>\n",
       "              <dt>AppName</dt>\n",
       "                <dd><code>Nuga Bank ETL Pipeline</code></dd>\n",
       "            </dl>\n",
       "        </div>\n",
       "        \n",
       "            </div>\n",
       "        "
      ],
      "text/plain": [
       "<pyspark.sql.session.SparkSession at 0x28b12c305d0>"
      ]
     },
     "execution_count": 10,
     "metadata": {},
     "output_type": "execute_result"
    }
   ],
   "source": [
    "spark"
   ]
  },
  {
   "cell_type": "code",
   "execution_count": 11,
   "id": "60118b27",
   "metadata": {},
   "outputs": [],
   "source": [
    "#Extract this historical data into a Spark DataFrame\n",
    "df = spark.read.csv(r'..\\dataset\\rawdata\\nuga_bank_transactions.csv', header=True, inferSchema=True)"
   ]
  },
  {
   "cell_type": "code",
   "execution_count": 12,
   "id": "6ee17692",
   "metadata": {},
   "outputs": [
    {
     "name": "stdout",
     "output_type": "stream",
     "text": [
      "+--------------------+------+----------------+--------------+--------------------+------------------+--------------+--------------------+--------------------+--------------------+--------------------+-------------------+------------------+--------------------+-------------+-------------+--------+-----+---------+--------------------+--------------------+------+--------------+\n",
      "|    Transaction_Date|Amount|Transaction_Type| Customer_Name|    Customer_Address|     Customer_City|Customer_State|    Customer_Country|             Company|           Job_Title|               Email|       Phone_Number|Credit_Card_Number|                IBAN|Currency_Code|Random_Number|Category|Group|Is_Active|        Last_Updated|         Description|Gender|Marital_Status|\n",
      "+--------------------+------+----------------+--------------+--------------------+------------------+--------------+--------------------+--------------------+--------------------+--------------------+-------------------+------------------+--------------------+-------------+-------------+--------+-----+---------+--------------------+--------------------+------+--------------+\n",
      "|2024-03-23 15:38:...| 34.76|      Withdrawal|    James Neal|54912 Holmes Lodg...| West Keithborough|       Florida|                Togo|Benson, Johnson a...|                NULL|                NULL|  493.720.6609x7545|  3592901394693441|GB98RBPP090285271...|          MAD|       3167.0|       C|    Z|       No|2020-06-20 03:04:...|Yeah food anythin...| Other|      Divorced|\n",
      "|2024-04-22 19:15:...|163.92|      Withdrawal|   Thomas Long| 1133 Collin Passage|        Joshuabury|   Connecticut|Lao People's Demo...|                NULL|   Food technologist|michellelynch@exa...|      (497)554-3317|              NULL|GB03KFZR339662263...|          VEF|       2122.0|       B|    Z|     NULL|2020-12-27 13:23:...|Teach edge make n...|Female|       Married|\n",
      "|2024-04-12 19:46:...|386.32|      Withdrawal|Ashley Shelton|5297 Johnson Port...|       North Maria|    New Jersey|              Bhutan|       Jones-Mueller|Database administ...| ljordan@example.org|      (534)769-3072|      675983949974|GB59QYRN446730519...|          COP|       7796.0|       C|    Z|       No|2020-01-24 01:23:...|Again line face c...| Other|          NULL|\n",
      "|2024-04-17 15:29:...|407.15|         Deposit| James Rosario|56955 Moore Glens...|North Michellefurt|    New Mexico|             Iceland|       Vargas-Harris|Horticultural the...|parkerjames@examp...|+1-447-900-1320x257|     4761202519057|GB74FTDO268299438...|          BWP|       6284.0|       C|    Z|      Yes|2023-09-27 03:01:...|     Bag my a drive.|  NULL|          NULL|\n",
      "|2024-02-10 01:51:...|161.31|         Deposit|Miguel Leonard|262 Beck Expressw...|              NULL| West Virginia|             Eritrea|Richardson, Gonza...|   Minerals surveyor| zweaver@example.net|               NULL|   213156729655186|GB94EWRN587847592...|          SOS|       9179.0|       C|    Y|       No|2022-01-22 19:08:...|Husband find ok w...|Female|       Married|\n",
      "+--------------------+------+----------------+--------------+--------------------+------------------+--------------+--------------------+--------------------+--------------------+--------------------+-------------------+------------------+--------------------+-------------+-------------+--------+-----+---------+--------------------+--------------------+------+--------------+\n",
      "only showing top 5 rows\n",
      "\n"
     ]
    }
   ],
   "source": [
    "df.show(5)"
   ]
  },
  {
   "cell_type": "code",
   "execution_count": 13,
   "id": "70e2f594",
   "metadata": {},
   "outputs": [
    {
     "name": "stdout",
     "output_type": "stream",
     "text": [
      "root\n",
      " |-- Transaction_Date: timestamp (nullable = true)\n",
      " |-- Amount: double (nullable = true)\n",
      " |-- Transaction_Type: string (nullable = true)\n",
      " |-- Customer_Name: string (nullable = true)\n",
      " |-- Customer_Address: string (nullable = true)\n",
      " |-- Customer_City: string (nullable = true)\n",
      " |-- Customer_State: string (nullable = true)\n",
      " |-- Customer_Country: string (nullable = true)\n",
      " |-- Company: string (nullable = true)\n",
      " |-- Job_Title: string (nullable = true)\n",
      " |-- Email: string (nullable = true)\n",
      " |-- Phone_Number: string (nullable = true)\n",
      " |-- Credit_Card_Number: long (nullable = true)\n",
      " |-- IBAN: string (nullable = true)\n",
      " |-- Currency_Code: string (nullable = true)\n",
      " |-- Random_Number: double (nullable = true)\n",
      " |-- Category: string (nullable = true)\n",
      " |-- Group: string (nullable = true)\n",
      " |-- Is_Active: string (nullable = true)\n",
      " |-- Last_Updated: timestamp (nullable = true)\n",
      " |-- Description: string (nullable = true)\n",
      " |-- Gender: string (nullable = true)\n",
      " |-- Marital_Status: string (nullable = true)\n",
      "\n"
     ]
    }
   ],
   "source": [
    "df.printSchema()"
   ]
  },
  {
   "cell_type": "code",
   "execution_count": 14,
   "id": "d0338f94",
   "metadata": {},
   "outputs": [
    {
     "name": "stdout",
     "output_type": "stream",
     "text": [
      "Transaction_Date Nulls:  0\n",
      "Amount Nulls:  0\n",
      "Transaction_Type Nulls:  0\n",
      "Customer_Name Nulls:  100425\n",
      "Customer_Address Nulls:  100087\n",
      "Customer_City Nulls:  100034\n",
      "Customer_State Nulls:  100009\n",
      "Customer_Country Nulls:  100672\n",
      "Company Nulls:  100295\n",
      "Job_Title Nulls:  99924\n",
      "Email Nulls:  100043\n",
      "Phone_Number Nulls:  100524\n",
      "Credit_Card_Number Nulls:  100085\n",
      "IBAN Nulls:  100300\n",
      "Currency_Code Nulls:  99342\n",
      "Random_Number Nulls:  99913\n",
      "Category Nulls:  100332\n",
      "Group Nulls:  100209\n",
      "Is_Active Nulls:  100259\n",
      "Last_Updated Nulls:  100321\n",
      "Description Nulls:  100403\n",
      "Gender Nulls:  99767\n",
      "Marital_Status Nulls:  99904\n"
     ]
    }
   ],
   "source": [
    "#Data Cleaning and Transformation\n",
    "for column in df.columns:\n",
    "    print(column, 'Nulls: ', df.filter(df[column].isNull()).count())"
   ]
  },
  {
   "cell_type": "code",
   "execution_count": 15,
   "id": "c0c74350",
   "metadata": {},
   "outputs": [
    {
     "name": "stdout",
     "output_type": "stream",
     "text": [
      "+-------+-----------------+----------------+-------------+--------------------+-------------+--------------+----------------+-------------+------------------+-------------------+-------------------+--------------------+--------------------+-------------+------------------+--------+------+---------+--------------------+------+--------------+\n",
      "|summary|           Amount|Transaction_Type|Customer_Name|    Customer_Address|Customer_City|Customer_State|Customer_Country|      Company|         Job_Title|              Email|       Phone_Number|  Credit_Card_Number|                IBAN|Currency_Code|     Random_Number|Category| Group|Is_Active|         Description|Gender|Marital_Status|\n",
      "+-------+-----------------+----------------+-------------+--------------------+-------------+--------------+----------------+-------------+------------------+-------------------+-------------------+--------------------+--------------------+-------------+------------------+--------+------+---------+--------------------+------+--------------+\n",
      "|  count|          1000000|         1000000|       899575|              899913|       899966|        899991|          899328|       899705|            900076|             899957|             899476|              899915|              899700|       900658|            900087|  899668|899791|   899741|              899597|900233|        900096|\n",
      "|   mean|504.9737112199981|            NULL|         NULL|                NULL|         NULL|          NULL|            NULL|         NULL|              NULL|               NULL| 6.00341888622502E9|3.785330130644790...|                NULL|         NULL| 5504.445295843624|    NULL|  NULL|     NULL|                NULL|  NULL|          NULL|\n",
      "| stddev|285.7997202441234|            NULL|         NULL|                NULL|         NULL|          NULL|            NULL|         NULL|              NULL|               NULL|2.307111981222392E9|1.247765855631418...|                NULL|         NULL|2598.1680843741237|    NULL|  NULL|     NULL|                NULL|  NULL|          NULL|\n",
      "|    min|             10.0|         Deposit| Aaron Abbott|000 Aaron Landing...|    Aaronberg|       Alabama|     Afghanistan| Abbott Group|Academic librarian|aabbott@example.com|      (200)201-4254|         60400015693|GB02AAAU191993009...|          AED|            1000.0|       A|     X|       No|A American and to...|Female|      Divorced|\n",
      "|    max|           1000.0|      Withdrawal|    Zoe Young|    99999 Mark Vista|  Zunigaville|       Wyoming|        Zimbabwe|Zuniga-Wilson|      Youth worker|zzuniga@example.org|         9999777682| 4999984361512569455|GB98ZZXM257326775...|          ZWD|            9999.0|       D|     Z|      Yes|Yourself young ev...| Other|        Single|\n",
      "+-------+-----------------+----------------+-------------+--------------------+-------------+--------------+----------------+-------------+------------------+-------------------+-------------------+--------------------+--------------------+-------------+------------------+--------+------+---------+--------------------+------+--------------+\n",
      "\n"
     ]
    }
   ],
   "source": [
    "df.describe().show()"
   ]
  },
  {
   "cell_type": "code",
   "execution_count": 16,
   "id": "d9b1b970",
   "metadata": {},
   "outputs": [],
   "source": [
    "#fill up the missing values\n",
    "df_clean = df.fillna({\n",
    "    'Customer_Name': 'Unknown',\n",
    "    'Customer_Address': 'Unknown',\n",
    "    'Customer_City': 'Unknown',\n",
    "    'Customer_State': 'Unknown',\n",
    "    'Customer_Country': 'Unknown',\n",
    "    'Company': 'Unknown',\n",
    "    'Job_Title': 'Unknown',\n",
    "    'Email': 'Unknown',\n",
    "    'Phone_Number': 'Unknown',\n",
    "    'Credit_Card_Number': 0,\n",
    "    'IBAN': 'Unknown',\n",
    "    'Currency_Code':'Unknown',\n",
    "    'Random_Number': '0.0',\n",
    "    'Category': 'Unknown',\n",
    "    'Group': 'Unknown',\n",
    "    'Is_Active': 'Unknown',\n",
    "    'Last_Updated': 'Unknown',\n",
    "    'Description': 'Unknown',\n",
    "    'Gender': 'Unknown',\n",
    "    'Marital_Status': 'Unknown'\n",
    "})\n"
   ]
  },
  {
   "cell_type": "code",
   "execution_count": 17,
   "id": "8e0e9c6c",
   "metadata": {},
   "outputs": [],
   "source": [
    "#Drop missing values in the last_updated column\n",
    "df_clean=df_clean.dropna(subset=['Last_Updated'])"
   ]
  },
  {
   "cell_type": "code",
   "execution_count": 18,
   "id": "4808cae0",
   "metadata": {},
   "outputs": [
    {
     "name": "stdout",
     "output_type": "stream",
     "text": [
      "Transaction_Date Nulls:  0\n",
      "Amount Nulls:  0\n",
      "Transaction_Type Nulls:  0\n",
      "Customer_Name Nulls:  0\n",
      "Customer_Address Nulls:  0\n",
      "Customer_City Nulls:  0\n",
      "Customer_State Nulls:  0\n",
      "Customer_Country Nulls:  0\n",
      "Company Nulls:  0\n",
      "Job_Title Nulls:  0\n",
      "Email Nulls:  0\n",
      "Phone_Number Nulls:  0\n",
      "Credit_Card_Number Nulls:  0\n",
      "IBAN Nulls:  0\n",
      "Currency_Code Nulls:  0\n",
      "Random_Number Nulls:  0\n",
      "Category Nulls:  0\n",
      "Group Nulls:  0\n",
      "Is_Active Nulls:  0\n",
      "Last_Updated Nulls:  0\n",
      "Description Nulls:  0\n",
      "Gender Nulls:  0\n",
      "Marital_Status Nulls:  0\n"
     ]
    }
   ],
   "source": [
    "#checking if data have been cleaned\n",
    "for column in df_clean.columns:\n",
    "    print(column, 'Nulls: ', df_clean.filter(df_clean[column].isNull()).count())"
   ]
  },
  {
   "cell_type": "code",
   "execution_count": 19,
   "id": "7d7c665b",
   "metadata": {},
   "outputs": [],
   "source": [
    "#Data Transformation to 2NF\n",
    "#Transaction Table\n",
    "transaction = df_clean.select(\n",
    "    'Transaction_Date','Amount','Transaction_Type') \\\n",
    "    .withColumn('transaction_id', monotonically_increasing_id()) \\\n",
    "    .select('transaction_id', 'Transaction_Date', 'Amount', 'Transaction_Type')\n"
   ]
  },
  {
   "cell_type": "code",
   "execution_count": 20,
   "id": "ed94ebab",
   "metadata": {},
   "outputs": [
    {
     "name": "stdout",
     "output_type": "stream",
     "text": [
      "+--------------+--------------------+------+----------------+\n",
      "|transaction_id|    Transaction_Date|Amount|Transaction_Type|\n",
      "+--------------+--------------------+------+----------------+\n",
      "|             0|2024-03-23 15:38:...| 34.76|      Withdrawal|\n",
      "|             1|2024-04-22 19:15:...|163.92|      Withdrawal|\n",
      "|             2|2024-04-12 19:46:...|386.32|      Withdrawal|\n",
      "|             3|2024-04-17 15:29:...|407.15|         Deposit|\n",
      "|             4|2024-02-10 01:51:...|161.31|         Deposit|\n",
      "+--------------+--------------------+------+----------------+\n",
      "only showing top 5 rows\n",
      "\n"
     ]
    }
   ],
   "source": [
    "transaction.show(5)"
   ]
  },
  {
   "cell_type": "code",
   "execution_count": 21,
   "id": "385fe3d1",
   "metadata": {},
   "outputs": [],
   "source": [
    "#customer Table\n",
    "customer = df_clean.select('Customer_Name', 'Customer_Address','Customer_City', 'Customer_State', 'Customer_Country') \\\n",
    "    .withColumn('customer_id', monotonically_increasing_id()) \\\n",
    "    .select('customer_id', 'Customer_Name', 'Customer_Address', 'Customer_City', 'Customer_State', 'Customer_Country')"
   ]
  },
  {
   "cell_type": "code",
   "execution_count": 22,
   "id": "c633722f",
   "metadata": {},
   "outputs": [
    {
     "name": "stdout",
     "output_type": "stream",
     "text": [
      "+-----------+--------------+--------------------+------------------+--------------+--------------------+\n",
      "|customer_id| Customer_Name|    Customer_Address|     Customer_City|Customer_State|    Customer_Country|\n",
      "+-----------+--------------+--------------------+------------------+--------------+--------------------+\n",
      "|          0|    James Neal|54912 Holmes Lodg...| West Keithborough|       Florida|                Togo|\n",
      "|          1|   Thomas Long| 1133 Collin Passage|        Joshuabury|   Connecticut|Lao People's Demo...|\n",
      "|          2|Ashley Shelton|5297 Johnson Port...|       North Maria|    New Jersey|              Bhutan|\n",
      "|          3| James Rosario|56955 Moore Glens...|North Michellefurt|    New Mexico|             Iceland|\n",
      "|          4|Miguel Leonard|262 Beck Expressw...|           Unknown| West Virginia|             Eritrea|\n",
      "+-----------+--------------+--------------------+------------------+--------------+--------------------+\n",
      "only showing top 5 rows\n",
      "\n"
     ]
    }
   ],
   "source": [
    "customer.show(5)"
   ]
  },
  {
   "cell_type": "code",
   "execution_count": 23,
   "id": "9130c022",
   "metadata": {},
   "outputs": [],
   "source": [
    "#Emploee Table\n",
    "employee = df_clean.select('Company', 'Job_Title', 'Email', 'Phone_Number', 'Gender', 'Marital_Status') \\\n",
    "    .withColumn('employee_id', monotonically_increasing_id()) \\\n",
    "    .select('employee_id', 'Company', 'Job_Title', 'Email', 'Phone_Number', 'Gender', 'Marital_Status')"
   ]
  },
  {
   "cell_type": "code",
   "execution_count": 24,
   "id": "0a3dc49f",
   "metadata": {},
   "outputs": [
    {
     "name": "stdout",
     "output_type": "stream",
     "text": [
      "+-----------+--------------------+--------------------+--------------------+-------------------+-------+--------------+\n",
      "|employee_id|             Company|           Job_Title|               Email|       Phone_Number| Gender|Marital_Status|\n",
      "+-----------+--------------------+--------------------+--------------------+-------------------+-------+--------------+\n",
      "|          0|Benson, Johnson a...|             Unknown|             Unknown|  493.720.6609x7545|  Other|      Divorced|\n",
      "|          1|             Unknown|   Food technologist|michellelynch@exa...|      (497)554-3317| Female|       Married|\n",
      "|          2|       Jones-Mueller|Database administ...| ljordan@example.org|      (534)769-3072|  Other|       Unknown|\n",
      "|          3|       Vargas-Harris|Horticultural the...|parkerjames@examp...|+1-447-900-1320x257|Unknown|       Unknown|\n",
      "|          4|Richardson, Gonza...|   Minerals surveyor| zweaver@example.net|            Unknown| Female|       Married|\n",
      "+-----------+--------------------+--------------------+--------------------+-------------------+-------+--------------+\n",
      "only showing top 5 rows\n",
      "\n"
     ]
    }
   ],
   "source": [
    "employee.show(5)"
   ]
  },
  {
   "cell_type": "code",
   "execution_count": 25,
   "id": "e920d36b",
   "metadata": {},
   "outputs": [],
   "source": [
    "#Nuga_bank_fact_table\n",
    "fact_table = df_clean.join(transaction, [ 'Transaction_Date', 'Amount', 'Transaction_Type'], 'inner') \\\n",
    "    .join(customer, ['Customer_Name', 'Customer_Address', 'Customer_City', 'Customer_State', 'Customer_Country'], 'inner') \\\n",
    "    .join(employee, ['Company', 'Job_Title', 'Email', 'Phone_Number', 'Gender', 'Marital_Status'], 'inner') \\\n",
    "    .select('transaction_id', 'customer_id', 'employee_id','Credit_Card_Number','IBAN', 'Currency_Code', 'Random_Number','Category','Group','Is_Active', 'Last_Updated','Description')\n",
    "   \n"
   ]
  },
  {
   "cell_type": "code",
   "execution_count": 26,
   "id": "51ffd239",
   "metadata": {},
   "outputs": [
    {
     "name": "stdout",
     "output_type": "stream",
     "text": [
      "+--------------+-----------+-----------+-------------------+--------------------+-------------+-------------+--------+-----+---------+--------------------+--------------------+\n",
      "|transaction_id|customer_id|employee_id| Credit_Card_Number|                IBAN|Currency_Code|Random_Number|Category|Group|Is_Active|        Last_Updated|         Description|\n",
      "+--------------+-----------+-----------+-------------------+--------------------+-------------+-------------+--------+-----+---------+--------------------+--------------------+\n",
      "|   17179921196|17179921196|17179921196|4131053293826613966|GB78CKOS832138470...|          GNF|       7475.0|       B|    Z|      Yes|2022-02-06 23:35:...|Health sure story...|\n",
      "|         29992|      29992|      29992|   2452924189738024|GB50ZGVC717046003...|          TRY|       9153.0|       D|    Z|       No|2021-11-26 08:47:...|Wait represent ge...|\n",
      "|   25769840960|25769840960|25769840960|   4625846628264239|GB97NDWP370396356...|          BSD|       6117.0| Unknown|    X|      Yes|2023-02-14 08:41:...|Onto give past no...|\n",
      "|   60129626495|60129626495|60129626495|                  0|GB11VVRM027865406...|      Unknown|       6669.0|       C|    X|       No|2022-04-13 17:22:...|Teach military ev...|\n",
      "|        103516|     103516|     103516|     30167114834907|GB09TXTK261344054...|          PHP|          0.0|       C|    Z|      Yes|2022-11-03 23:14:...|Sport internation...|\n",
      "+--------------+-----------+-----------+-------------------+--------------------+-------------+-------------+--------+-----+---------+--------------------+--------------------+\n",
      "only showing top 5 rows\n",
      "\n"
     ]
    }
   ],
   "source": [
    "fact_table.show(5)"
   ]
  },
  {
   "cell_type": "code",
   "execution_count": 27,
   "id": "4b0e95c3",
   "metadata": {},
   "outputs": [],
   "source": [
    "#Data Loading\n",
    "# Save to PostgreSQL\n",
    "import psycopg2\n",
    "import os\n",
    "from sqlalchemy import create_engine\n",
    "from dotenv import load_dotenv\n",
    "\n",
    "\n",
    "# Load environment variables from .env file\n",
    "load_dotenv()\n",
    "\n",
    "# PostgreSQL credentials\n",
    "def get_db_connection():\n",
    "    try:\n",
    "        conn = psycopg2.connect(\n",
    "            host=os.getenv('DB_HOST'),\n",
    "            port=os.getenv('DB_PORT'),\n",
    "            database=os.getenv('DB_NAME'),\n",
    "            user=os.getenv('DB_USERNAME', 'postgres'),  # Changed from USER_NAME to DB_USERNAME\n",
    "            password=os.getenv('DB_PASSWORD')\n",
    "        )\n",
    "        return conn\n",
    "    except Exception as e:\n",
    "        print(f\"Error connecting to the database: {e}\")\n",
    "        return None"
   ]
  },
  {
   "cell_type": "code",
   "execution_count": 28,
   "id": "5cef0554",
   "metadata": {},
   "outputs": [],
   "source": [
    "# Connect to sql database\n",
    "conn = get_db_connection()"
   ]
  },
  {
   "cell_type": "code",
   "execution_count": 29,
   "id": "8d9d12fe",
   "metadata": {},
   "outputs": [],
   "source": [
    "#Create a function to create tables\n",
    "def create_table():\n",
    "    conn = get_db_connection()\n",
    "    if conn is None:\n",
    "        print(\"Failed to connect to database. Cannot create tables.\")\n",
    "        return False\n",
    "        \n",
    "    cursor = conn.cursor()\n",
    "    create_table_query = '''\n",
    "                    \n",
    "                      DROP TABLE IF EXISTS fact_table;\n",
    "                      DROP TABLE IF EXISTS customer;\n",
    "                      DROP TABLE IF EXISTS transaction;\n",
    "                      DROP TABLE IF EXISTS employee;\n",
    "\n",
    "                   \n",
    "\n",
    "                    CREATE TABLE customer (\n",
    "                        customer_id BIGINT PRIMARY KEY,\n",
    "                        customer_name VARCHAR(10000),\n",
    "                        customer_address VARCHAR(10000),\n",
    "                        customer_city VARCHAR(10000),\n",
    "                        customer_state VARCHAR(10000),\n",
    "                        customer_country VARCHAR(10000)\n",
    "                    );\n",
    "\n",
    "                    CREATE TABLE transaction (\n",
    "                         transaction_id BIGINT PRIMARY KEY,\n",
    "                         transaction_date DATE,\n",
    "                         amount FLOAT,\n",
    "                         transaction_type VARCHAR(10000)\n",
    "                        );\n",
    "\n",
    "                    CREATE TABLE employee (\n",
    "                        employee_id BIGINT PRIMARY KEY,\n",
    "                        company VARCHAR(10000),\n",
    "                        job_title VARCHAR(10000),\n",
    "                        email VARCHAR(10000),\n",
    "                        phone_number VARCHAR(10000),\n",
    "                        gender VARCHAR(10000),\n",
    "                        marital_status VARCHAR(10000)\n",
    "                    );\n",
    "                    CREATE TABLE fact_table (\n",
    "                        transaction_id BIGINT REFERENCES transaction(transaction_id),\n",
    "                        customer_id BIGINT REFERENCES customer(customer_id),\n",
    "                        employee_id BIGINT REFERENCES employee(employee_id),\n",
    "                        credit_card_number VARCHAR(10000),\n",
    "                        iban VARCHAR(10000),\n",
    "                        currency_code VARCHAR(10000),\n",
    "                        random_number FLOAT,\n",
    "                        category VARCHAR(10000),\n",
    "                        \"group\" VARCHAR(10000),\n",
    "                        is_active VARCHAR(10000),\n",
    "                        last_updated TIMESTAMP,\n",
    "                        description VARCHAR(10000)\n",
    "                    );\n",
    "                    '''\n",
    "    cursor.execute(create_table_query)\n",
    "    conn.commit()\n",
    "    cursor.close()\n",
    "    conn.close()\n",
    "    print(\"Tables created successfully in PostgreSQL database.\")\n",
    "    return True"
   ]
  },
  {
   "cell_type": "code",
   "execution_count": 31,
   "id": "e1639acc",
   "metadata": {},
   "outputs": [],
   "source": [
    "if not create_table():\n",
    "    print(\"Stopping execution due to table creation failure.\")\n",
    "else:\n",
    "    print(\"Tables created successfully, proceeding with data loading...\")"
   ]
  },
  {
   "cell_type": "code",
   "execution_count": 33,
   "id": "5f6341d4",
   "metadata": {},
   "outputs": [],
   "source": [
    "from dotenv import load_dotenv\n",
    "import os\n",
    "\n",
    "load_dotenv()\n",
    "\n",
    "url = f\"jdbc:postgresql://localhost:5432/{os.getenv('DB_NAME')}\"\n",
    "properties = {\n",
    "    \"user\": os.getenv('DB_USERNAME'),\n",
    "    \"password\": os.getenv('DB_PASSWORD'),\n",
    "    \"driver\": \"org.postgresql.Driver\"\n",
    "}"
   ]
  },
  {
   "cell_type": "code",
   "execution_count": 34,
   "id": "935fd991",
   "metadata": {},
   "outputs": [],
   "source": [
    "# Write data to PostgreSQL with error handling\n",
    "try:\n",
    "    print(\"Writing customer data...\")\n",
    "    customer.write.jdbc(\n",
    "        url=url,\n",
    "        table=\"customer\",\n",
    "        mode=\"append\",\n",
    "        properties=properties\n",
    "    )\n",
    "    print(\"Customer data written successfully.\")\n",
    "\n",
    "    print(\"Writing transaction data...\")\n",
    "    transaction.write.jdbc(\n",
    "        url=url,\n",
    "        table='\"transaction\"',  # quoted because it's a reserved keyword\n",
    "        mode=\"append\",\n",
    "        properties=properties\n",
    "    )\n",
    "    print(\"Transaction data written successfully.\")\n",
    "\n",
    "    print(\"Writing employee data...\")\n",
    "    employee.write.jdbc(\n",
    "        url=url,\n",
    "        table=\"employee\",\n",
    "        mode=\"append\",\n",
    "        properties=properties\n",
    "    )\n",
    "    print(\"Employee data written successfully.\")\n",
    "\n",
    "    print(\"Writing fact table data...\")\n",
    "    fact_table.write.jdbc(\n",
    "        url=url,\n",
    "        table=\"fact_table\",\n",
    "        mode=\"append\",\n",
    "        properties=properties\n",
    "    )\n",
    "    print(\"Fact table data written successfully.\")\n",
    "    print(\"All data loaded successfully into PostgreSQL tables.\")\n",
    "\n",
    "except Exception as e:\n",
    "    print(f\"Error writing data to PostgreSQL: {e}\")\n",
    "    raise"
   ]
  }
 ],
 "metadata": {
  "kernelspec": {
   "display_name": "Python 3",
   "language": "python",
   "name": "python3"
  },
  "language_info": {
   "codemirror_mode": {
    "name": "ipython",
    "version": 3
   },
   "file_extension": ".py",
   "mimetype": "text/x-python",
   "name": "python",
   "nbconvert_exporter": "python",
   "pygments_lexer": "ipython3",
   "version": "3.11.4"
  }
 },
 "nbformat": 4,
 "nbformat_minor": 5
}
